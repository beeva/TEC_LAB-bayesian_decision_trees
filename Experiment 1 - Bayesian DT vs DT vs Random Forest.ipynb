{
 "cells": [
  {
   "cell_type": "code",
   "execution_count": 1,
   "metadata": {},
   "outputs": [],
   "source": [
    "import pandas as pd\n",
    "import numpy as np\n",
    "import plotly_express as px\n",
    "\n",
    "from sklearn.datasets import load_breast_cancer\n",
    "from sklearn.tree import DecisionTreeClassifier\n",
    "from sklearn.ensemble import RandomForestClassifier\n",
    "from sklearn.model_selection import train_test_split\n",
    "\n",
    "from bayesian_decision_tree.classification import BinaryClassificationNode\n",
    "# from bayesian_decision_tree.classification import MultiClassificationNode\n",
    "# from bayesian_decision_tree.regression import RegressionNode\n",
    "\n",
    "np.random.seed(11)"
   ]
  },
  {
   "cell_type": "markdown",
   "metadata": {},
   "source": [
    "# Experiment 1 - Bayesian Decision Trees exploration\n",
    "\n",
    "Let's test the performance of bayesian decision trees vs standard decision trees vs Random Forests. In [the paper](https://arxiv.org/abs/1901.03214), the authors claim a performance similar to Random Forest.\n",
    "\n",
    "I will use [the official implementation](https://github.com/UBS-IB/bayesian_tree/) in Python to perform the experiments."
   ]
  },
  {
   "cell_type": "markdown",
   "metadata": {},
   "source": [
    "---\n",
    "\n",
    "## Data set\n",
    "\n",
    "I will use the Breast Cancer Wisconsin data set to minimize the time consumption of the experiment:"
   ]
  },
  {
   "cell_type": "code",
   "execution_count": 2,
   "metadata": {},
   "outputs": [],
   "source": [
    "X, y = load_breast_cancer(return_X_y=True)"
   ]
  },
  {
   "cell_type": "code",
   "execution_count": 3,
   "metadata": {},
   "outputs": [
    {
     "data": {
      "text/plain": [
       "((569, 30), (569,))"
      ]
     },
     "execution_count": 3,
     "metadata": {},
     "output_type": "execute_result"
    }
   ],
   "source": [
    "X.shape, y.shape"
   ]
  },
  {
   "cell_type": "code",
   "execution_count": 4,
   "metadata": {},
   "outputs": [],
   "source": [
    "X_train, X_test, y_train, y_test = train_test_split(X, y, test_size=0.3, random_state=42)"
   ]
  },
  {
   "cell_type": "markdown",
   "metadata": {},
   "source": [
    "---\n",
    "\n",
    "## Bayesian Decision Tree model"
   ]
  },
  {
   "cell_type": "markdown",
   "metadata": {},
   "source": [
    "### Model settings\n",
    "The implementation lets us choose the prior probability of each class and the prior probability of splitting a node into sub-nodes."
   ]
  },
  {
   "cell_type": "code",
   "execution_count": 5,
   "metadata": {},
   "outputs": [],
   "source": [
    "prior = np.array([1,1])"
   ]
  },
  {
   "cell_type": "code",
   "execution_count": 6,
   "metadata": {},
   "outputs": [],
   "source": [
    "bdt_model = BinaryClassificationNode(partition_prior=0.8, prior=prior)"
   ]
  },
  {
   "cell_type": "markdown",
   "metadata": {},
   "source": [
    "### Training the model"
   ]
  },
  {
   "cell_type": "code",
   "execution_count": 7,
   "metadata": {},
   "outputs": [],
   "source": [
    "delta = 0"
   ]
  },
  {
   "cell_type": "code",
   "execution_count": 8,
   "metadata": {},
   "outputs": [],
   "source": [
    "bdt_model.fit(X_train, y_train, delta)"
   ]
  },
  {
   "cell_type": "markdown",
   "metadata": {},
   "source": [
    "### Exploring the model\n",
    "\n",
    " * Is the obtained model interpretable?  \n",
    " * What is its performance?"
   ]
  },
  {
   "cell_type": "code",
   "execution_count": 9,
   "metadata": {
    "scrolled": true
   },
   "outputs": [
    {
     "name": "stdout",
     "output_type": "stream",
     "text": [
      "x7=0.05128\n",
      " ┣ <0.05128: x20=16.83\n",
      " ┃ ┣ <16.83: y=1, p(y)=[ 0.02586207  0.97413793]\n",
      " ┃ ┗ ≥16.83: y=0, p(y)=[ 0.52941176  0.47058824]\n",
      " ┗ ≥0.05128: x22=114.44999999999999\n",
      "    ┣ <114.44999999999999: x21=25.655\n",
      "    ┃ ┣ <25.655: y=1, p(y)=[ 0.14285714  0.85714286]\n",
      "    ┃ ┗ ≥25.655: y=0, p(y)=[ 0.95454545  0.04545455]\n",
      "    ┗ ≥114.44999999999999: y=0, p(y)=[ 0.99137931  0.00862069]\n"
     ]
    }
   ],
   "source": [
    "print(bdt_model)"
   ]
  },
  {
   "cell_type": "markdown",
   "metadata": {},
   "source": [
    "The model is as interpretable as a standard decision tree."
   ]
  },
  {
   "cell_type": "code",
   "execution_count": 10,
   "metadata": {},
   "outputs": [
    {
     "name": "stdout",
     "output_type": "stream",
     "text": [
      "Bayesian Decision Tree Accuracy = 0.965\n"
     ]
    }
   ],
   "source": [
    "bdt_predictions = bdt_model.predict(X_test)\n",
    "bdt_acc = np.sum(bdt_predictions == y_test) / X_test.shape[0]\n",
    "print(\"Bayesian Decision Tree Accuracy = {}\".format(np.round(bdt_acc, decimals=3)))"
   ]
  },
  {
   "cell_type": "markdown",
   "metadata": {},
   "source": [
    "## Decision Tree Model"
   ]
  },
  {
   "cell_type": "code",
   "execution_count": 11,
   "metadata": {},
   "outputs": [
    {
     "name": "stdout",
     "output_type": "stream",
     "text": [
      "Decision Tree Accuracy = 0.936\n"
     ]
    }
   ],
   "source": [
    "dt_model = DecisionTreeClassifier()\n",
    "dt_model.fit(X_train, y_train)\n",
    "df_acc = np.round(dt_model.score(X_test, y_test), decimals=3)\n",
    "print(\"Decision Tree Accuracy = {}\".format(df_acc))"
   ]
  },
  {
   "cell_type": "markdown",
   "metadata": {},
   "source": [
    "## Random Forest Model"
   ]
  },
  {
   "cell_type": "code",
   "execution_count": 12,
   "metadata": {},
   "outputs": [
    {
     "name": "stdout",
     "output_type": "stream",
     "text": [
      "Random Forest Accuracy = 0.959\n"
     ]
    }
   ],
   "source": [
    "rf_model = RandomForestClassifier(n_estimators=10)\n",
    "rf_model.fit(X_train, y_train)\n",
    "rf_acc = np.round(rf_model.score(X_test, y_test), decimals=3)\n",
    "print(\"Random Forest Accuracy = {}\".format(rf_acc))"
   ]
  },
  {
   "cell_type": "markdown",
   "metadata": {},
   "source": [
    "---\n",
    "\n",
    "# Conclusions\n",
    "\n",
    "Apparently the bayesian decision tree performs better than the alternatives. It is also fully interpretable, so this results are promising. \n",
    "\n",
    "## Next steps\n",
    "Experiments with larger and more complex data sets should be done."
   ]
  }
 ],
 "metadata": {
  "kernelspec": {
   "display_name": "Python 3",
   "language": "python",
   "name": "python3"
  },
  "language_info": {
   "codemirror_mode": {
    "name": "ipython",
    "version": 3
   },
   "file_extension": ".py",
   "mimetype": "text/x-python",
   "name": "python",
   "nbconvert_exporter": "python",
   "pygments_lexer": "ipython3",
   "version": "3.6.7"
  }
 },
 "nbformat": 4,
 "nbformat_minor": 2
}
