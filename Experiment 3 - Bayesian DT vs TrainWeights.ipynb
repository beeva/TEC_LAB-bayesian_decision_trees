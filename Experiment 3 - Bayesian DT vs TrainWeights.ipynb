{
 "cells": [
  {
   "cell_type": "markdown",
   "metadata": {},
   "source": [
    "# Bayesian DT vs TrainWeights\n",
    "\n",
    "As we saw in [previous experiments](https://github.com/beeva-labs/profweight-experiments), the performance of a Decision Tree using TrainWeights techniques reached:\n",
    "\n",
    "* An accuracy of 0.924 when predicting the Breast Cancer Wisconsin data set.\n",
    "* A MAE of 42.27 when predicting the Wine Quality data set.\n",
    "\n",
    "The goal of this notebook is to train Bayesian Decision Trees in both data sets to compare their perfomance with that of TrainWeights."
   ]
  },
  {
   "cell_type": "markdown",
   "metadata": {},
   "source": [
    "## Classification: Breast Cancer Wisconsin data set"
   ]
  },
  {
   "cell_type": "markdown",
   "metadata": {},
   "source": [
    "### Prepare the data set and libraries"
   ]
  },
  {
   "cell_type": "code",
   "execution_count": 1,
   "metadata": {},
   "outputs": [],
   "source": [
    "import numpy as np\n",
    "import matplotlib.pyplot as plt\n",
    "\n",
    "from sklearn.datasets import load_breast_cancer\n",
    "from sklearn.model_selection import train_test_split\n",
    "from bayesian_decision_tree.classification import BinaryClassificationNode\n",
    "\n",
    "np.random.seed(11) # to get the same partition than the other experiment"
   ]
  },
  {
   "cell_type": "code",
   "execution_count": 2,
   "metadata": {},
   "outputs": [
    {
     "data": {
      "text/plain": [
       "((569, 30), (569,))"
      ]
     },
     "execution_count": 2,
     "metadata": {},
     "output_type": "execute_result"
    }
   ],
   "source": [
    "X, y = load_breast_cancer(return_X_y=True)\n",
    "X.shape, y.shape"
   ]
  },
  {
   "cell_type": "code",
   "execution_count": 3,
   "metadata": {},
   "outputs": [],
   "source": [
    "X_train, X_test, y_train, y_test = train_test_split(X, y, test_size=0.3, random_state=42)"
   ]
  },
  {
   "cell_type": "markdown",
   "metadata": {},
   "source": [
    "### Train de Bayesian Decision Tree model"
   ]
  },
  {
   "cell_type": "markdown",
   "metadata": {},
   "source": [
    "#### Model settings\n",
    "The implementation lets us choose the prior probability of each class and the prior probability of splitting a node into sub-nodes."
   ]
  },
  {
   "cell_type": "code",
   "execution_count": 4,
   "metadata": {},
   "outputs": [],
   "source": [
    "prior = np.array([1,1])\n",
    "delta = 0\n",
    "bdt_model = BinaryClassificationNode(partition_prior=0.8, prior=prior)"
   ]
  },
  {
   "cell_type": "code",
   "execution_count": 5,
   "metadata": {},
   "outputs": [],
   "source": [
    "bdt_model.fit(X_train, y_train, delta)"
   ]
  },
  {
   "cell_type": "code",
   "execution_count": 6,
   "metadata": {},
   "outputs": [
    {
     "name": "stdout",
     "output_type": "stream",
     "text": [
      "Bayesian Decision Tree Accuracy = 0.965\n"
     ]
    }
   ],
   "source": [
    "bdt_predictions = bdt_model.predict(X_test)\n",
    "bdt_acc = np.sum(bdt_predictions == y_test) / X_test.shape[0]\n",
    "print(\"Bayesian Decision Tree Accuracy = {}\".format(np.round(bdt_acc, decimals=3)))"
   ]
  },
  {
   "cell_type": "markdown",
   "metadata": {},
   "source": [
    "The improvement over TrainWeights is huge! (0.965 > 0.924)"
   ]
  },
  {
   "cell_type": "markdown",
   "metadata": {},
   "source": [
    "## Regression: Wine Quality data set"
   ]
  },
  {
   "cell_type": "markdown",
   "metadata": {},
   "source": [
    "### Prepare the data set and libraries"
   ]
  },
  {
   "cell_type": "code",
   "execution_count": 7,
   "metadata": {},
   "outputs": [],
   "source": [
    "import numpy as np\n",
    "import matplotlib.pyplot as plt\n",
    "\n",
    "from sklearn.datasets import load_diabetes\n",
    "from sklearn.metrics import mean_absolute_error\n",
    "\n",
    "from bayesian_decision_tree.regression import RegressionNode\n",
    "\n",
    "np.random.seed(42) # to get the same partition than the other experiment"
   ]
  },
  {
   "cell_type": "code",
   "execution_count": 8,
   "metadata": {},
   "outputs": [
    {
     "data": {
      "text/plain": [
       "((442, 10), (442,))"
      ]
     },
     "execution_count": 8,
     "metadata": {},
     "output_type": "execute_result"
    }
   ],
   "source": [
    "X, y = load_diabetes(return_X_y=True)\n",
    "X.shape, y.shape"
   ]
  },
  {
   "cell_type": "code",
   "execution_count": 9,
   "metadata": {},
   "outputs": [],
   "source": [
    "X_train, X_test, y_train, y_test = train_test_split(X, y, test_size=0.3, random_state=42)"
   ]
  },
  {
   "cell_type": "markdown",
   "metadata": {},
   "source": [
    "### Train de Bayesian Decision Tree model"
   ]
  },
  {
   "cell_type": "markdown",
   "metadata": {},
   "source": [
    "#### Model settings\n",
    "In regression, we need to set the prior on several parameters:"
   ]
  },
  {
   "cell_type": "code",
   "execution_count": 10,
   "metadata": {},
   "outputs": [],
   "source": [
    "mu = y_train.mean()\n",
    "sd_prior = y_train.std() / 10\n",
    "prior_obs = 1\n",
    "kappa = prior_obs\n",
    "alpha = prior_obs/2\n",
    "var_prior = sd_prior**2\n",
    "tau_prior = 1/var_prior\n",
    "beta = alpha/tau_prior\n",
    "\n",
    "prior = (mu, kappa, alpha, beta)\n",
    "\n",
    "# Bayesian decision tree parameters\n",
    "partition_prior = 0.9\n",
    "delta = 0\n",
    "\n",
    "regression_model = RegressionNode(partition_prior, prior)\n",
    "\n",
    "# train\n",
    "regression_model.fit(X_train, y_train, delta)"
   ]
  },
  {
   "cell_type": "code",
   "execution_count": 11,
   "metadata": {},
   "outputs": [
    {
     "name": "stdout",
     "output_type": "stream",
     "text": [
      "Test MAE = 43.69\n"
     ]
    }
   ],
   "source": [
    "y_pred = regression_model.predict(X_test)\n",
    "print(\"Test MAE = {}\".format(np.round(mean_absolute_error(y_test, y_pred), decimals=2)))"
   ]
  },
  {
   "cell_type": "markdown",
   "metadata": {},
   "source": [
    "In this case, the result in a bit worse."
   ]
  },
  {
   "cell_type": "markdown",
   "metadata": {},
   "source": [
    "# Conclusions\n",
    "\n",
    "* More experiments would be needed to fairly compare both methods.\n",
    "* Maybe the best option in to use both, compare the resulting trees and their performance and use the one we feel more confortable with."
   ]
  }
 ],
 "metadata": {
  "kernelspec": {
   "display_name": "Python 3",
   "language": "python",
   "name": "python3"
  },
  "language_info": {
   "codemirror_mode": {
    "name": "ipython",
    "version": 3
   },
   "file_extension": ".py",
   "mimetype": "text/x-python",
   "name": "python",
   "nbconvert_exporter": "python",
   "pygments_lexer": "ipython3",
   "version": "3.6.7"
  }
 },
 "nbformat": 4,
 "nbformat_minor": 2
}
